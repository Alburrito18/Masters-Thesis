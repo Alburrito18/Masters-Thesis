{
 "cells": [
  {
   "cell_type": "code",
   "execution_count": 3,
   "id": "949a07fe-7281-4d09-aa37-c84bd3810523",
   "metadata": {},
   "outputs": [
    {
     "name": "stdout",
     "output_type": "stream",
     "text": [
      "Defaulting to user installation because normal site-packages is not writeable\n",
      "Collecting python-docx\n",
      "  Downloading python_docx-1.1.0-py3-none-any.whl.metadata (2.0 kB)\n",
      "Collecting lxml>=3.1.0 (from python-docx)\n",
      "  Downloading lxml-5.1.0-cp310-cp310-manylinux_2_17_x86_64.manylinux2014_x86_64.whl.metadata (3.5 kB)\n",
      "Requirement already satisfied: typing-extensions in /opt/conda/lib/python3.10/site-packages (from python-docx) (4.7.1)\n",
      "Downloading python_docx-1.1.0-py3-none-any.whl (239 kB)\n",
      "\u001b[2K   \u001b[90m━━━━━━━━━━━━━━━━━━━━━━━━━━━━━━━━━━━━━━━━\u001b[0m \u001b[32m239.6/239.6 kB\u001b[0m \u001b[31m6.7 MB/s\u001b[0m eta \u001b[36m0:00:00\u001b[0m00:01\u001b[0m\n",
      "\u001b[?25hDownloading lxml-5.1.0-cp310-cp310-manylinux_2_17_x86_64.manylinux2014_x86_64.whl (8.0 MB)\n",
      "\u001b[2K   \u001b[90m━━━━━━━━━━━━━━━━━━━━━━━━━━━━━━━━━━━━━━━━\u001b[0m \u001b[32m8.0/8.0 MB\u001b[0m \u001b[31m76.8 MB/s\u001b[0m eta \u001b[36m0:00:00\u001b[0m:00:01\u001b[0m0:01\u001b[0m\n",
      "\u001b[?25hInstalling collected packages: lxml, python-docx\n",
      "Successfully installed lxml-5.1.0 python-docx-1.1.0\n",
      "Defaulting to user installation because normal site-packages is not writeable\n",
      "Collecting PyMuPDF\n",
      "  Downloading PyMuPDF-1.23.26-cp310-none-manylinux2014_x86_64.whl.metadata (3.4 kB)\n",
      "Collecting PyMuPDFb==1.23.22 (from PyMuPDF)\n",
      "  Downloading PyMuPDFb-1.23.22-py3-none-manylinux2014_x86_64.manylinux_2_17_x86_64.whl.metadata (1.4 kB)\n",
      "Downloading PyMuPDF-1.23.26-cp310-none-manylinux2014_x86_64.whl (4.4 MB)\n",
      "\u001b[2K   \u001b[90m━━━━━━━━━━━━━━━━━━━━━━━━━━━━━━━━━━━━━━━━\u001b[0m \u001b[32m4.4/4.4 MB\u001b[0m \u001b[31m22.8 MB/s\u001b[0m eta \u001b[36m0:00:00\u001b[0m00:01\u001b[0m00:01\u001b[0m\n",
      "\u001b[?25hDownloading PyMuPDFb-1.23.22-py3-none-manylinux2014_x86_64.manylinux_2_17_x86_64.whl (30.6 MB)\n",
      "\u001b[2K   \u001b[90m━━━━━━━━━━━━━━━━━━━━━━━━━━━━━━━━━━━━━━━━\u001b[0m \u001b[32m30.6/30.6 MB\u001b[0m \u001b[31m52.0 MB/s\u001b[0m eta \u001b[36m0:00:00\u001b[0m:00:01\u001b[0m00:01\u001b[0m\n",
      "\u001b[?25hInstalling collected packages: PyMuPDFb, PyMuPDF\n",
      "\u001b[33m  WARNING: The script pymupdf is installed in '/workspace/.local/bin' which is not on PATH.\n",
      "  Consider adding this directory to PATH or, if you prefer to suppress this warning, use --no-warn-script-location.\u001b[0m\u001b[33m\n",
      "\u001b[0mSuccessfully installed PyMuPDF-1.23.26 PyMuPDFb-1.23.22\n"
     ]
    }
   ],
   "source": [
    "!pip install python-docx\n",
    "#!pip install textract\n",
    "!pip install PyMuPDF\n",
    "#!pip install pywin32"
   ]
  },
  {
   "cell_type": "code",
   "execution_count": 4,
   "id": "eca46ee4-ec7e-41db-839c-3f4d11e7b77d",
   "metadata": {},
   "outputs": [],
   "source": [
    "#!pip install PyPDF2\n",
    "from transformers import AutoTokenizer\n",
    "from tokenizers.normalizers import NFC\n",
    "#import fitz\n",
    "import re\n",
    "import os\n",
    "#from docx import Document\n",
    "#import textract\n",
    "import pandas as pd\n",
    "import zipfile"
   ]
  },
  {
   "cell_type": "code",
   "execution_count": 54,
   "id": "fd490f14-aedf-4f2c-90a6-5d415e7d53bf",
   "metadata": {},
   "outputs": [
    {
     "name": "stdout",
     "output_type": "stream",
     "text": [
      "<Description>{\"namn\": \"Mona Mårtensson\", \"ålder\": 55, \"kön\": \"kvinna\", \"bakgrund\": \"Projektledare på reklambyrå. Aktiv inom yoga och löpning.\", \"medicinsk_historik\": \"God generell hälsa. Mild astma behandlad med inhalator. Modern hade typ 2 Diabetes.\", \"medicinering\": [\"Inhalator med budesonid/formoterol vid behov\"], \"allergier\": \"Pollensallergi med säsongbunden rinit\"}\n",
      "\n",
      "Aktuellt:\n",
      "Patient söker för plötslig synstörning på höger öga. Anamnes indikerar högt stresspåslag i arbetet den senaste månaden. Fundoskopi avslöjar en retinal venocklusion. \n",
      "\n",
      "Planerar utredning och behandling inom oftalmologi. Stresshantering rekommenderas.\n",
      "\n",
      "Astman är välkontrollerad och inhalatorn används endast vid behov.\n",
      "</Description>\n",
      "<Summary>\n",
      "*\n"
     ]
    }
   ],
   "source": [
    "txt='<Description>{\"namn\": \"Mona Mårtensson\", \"ålder\": 55, \"kön\": \"kvinna\", \"bakgrund\": \"Projektledare på reklambyrå. Aktiv inom yoga och löpning.\", \"medicinsk_historik\": \"God generell hälsa. Mild astma behandlad med inhalator. Modern hade typ 2 Diabetes.\", \"medicinering\": [\"Inhalator med budesonid/formoterol vid behov\"], \"allergier\": \"Pollensallergi med säsongbunden rinit\"}\\n\\nAktuellt:\\nPatient söker för plötslig synstörning på höger öga. Anamnes indikerar högt stresspåslag i arbetet den senaste månaden. Fundoskopi avslöjar en retinal venocklusion. \\n\\nPlanerar utredning och behandling inom oftalmologi. Stresshantering rekommenderas.\\n\\nAstman är välkontrollerad och inhalatorn används endast vid behov.\\n</Description>\\n<Summary>\\n*Sjukdomshistoria*:\\nMild astma, användning av inhalator vid behov. Modern hade typ 2 Diabetes.\\n\\n*Sökorsaker*:\\nPlötslig synstörning på höger öga, retinal venocklusion konstaterad.\\n\\n*Åtgärder*:\\nOftalmologi utredning/behandling, stressreducering.\\n</Summary>'\n",
    "\n",
    "match = re.split(r\"Sjukdomshistoria\", txt,maxsplit=1)\n",
    "print(match[0])"
   ]
  },
  {
   "cell_type": "code",
   "execution_count": 38,
   "id": "725dacad-1e08-4d32-9e29-f3aabe35ce54",
   "metadata": {},
   "outputs": [
    {
     "name": "stdout",
     "output_type": "stream",
     "text": [
      "DFM3M1ALEL.doc\n",
      "DSM2-2 Kemisk analys.doc\n",
      "DSM2-1 Infektionsimmunologi.doc\n",
      "DSM2-2 Statusfynd.doc\n",
      "IDT munta.doc\n",
      "DSM2-2 EKG.doc\n",
      "DSMfarmakologiTGKJ.doc\n",
      "done\n"
     ]
    }
   ],
   "source": [
    "pre_path = '../../data/finetuning/hus75/Pre-training'\n",
    "directory = os.fsencode('../../data/finetuning/hus75/Pre-training')\n",
    "reg = r\"(\\n \\n )\"\n",
    "data = list()\n",
    "for file in os.listdir(directory):\n",
    "    filename = os.fsdecode(file)\n",
    "    if filename.endswith(\".doc\"):\n",
    "        print(filename)\n",
    "        text = textract.process(pre_path + '/'+ filename,language='swe')\n",
    "        text = text.decode(\"utf-8\")\n",
    "        text = re.sub(reg,' ',text)\n",
    "        data.append(text)\n",
    "    elif filename.endswith(\".docx\"):\n",
    "        doc = Document(pre_path + '/'+ filename)\n",
    "        complete_text = ''\n",
    "        for p in doc.paragraphs:\n",
    "            text = p.text\n",
    "            text = re.sub(reg,' ',text)\n",
    "            complete_text+=text\n",
    "        data.append(complete_text)\n",
    "    elif filename.endswith(\".pdf\") or filename.endswith(\".py\"):\n",
    "        doc = fitz.open(pre_path + '/'+ filename)\n",
    "        #reader = PdfReader(pre_path + '/'+ filename)\n",
    "        #num_pages = len(reader.pages)\n",
    "        complete_text = ''\n",
    "        for page in doc:\n",
    "            text = page.get_text()\n",
    "            text = re.sub(reg,' ',text)\n",
    "            complete_text+=text\n",
    "        data.append(complete_text)\n",
    "data = pd.DataFrame(data,columns = ['text'])\n",
    "data.to_json('pre_train_data.json',compression = None)\n",
    "print('done')"
   ]
  },
  {
   "cell_type": "code",
   "execution_count": 41,
   "id": "ffb5084e-033f-4cd4-8a80-f59cd512b48e",
   "metadata": {},
   "outputs": [],
   "source": [
    "tokenizer = AutoTokenizer.from_pretrained('meta-llama/Llama-2-13b-chat-hf',token = '')\n"
   ]
  },
  {
   "cell_type": "code",
   "execution_count": 46,
   "id": "2ef5a27e-d340-4c9d-b925-56f3997b75b8",
   "metadata": {},
   "outputs": [
    {
     "name": "stdout",
     "output_type": "stream",
     "text": [
      "▁Hejsan▁jag▁heter▁Kalle\n"
     ]
    }
   ],
   "source": [
    "print(tokenizer.backend_tokenizer.normalizer.normalize_str('Hejsan jag heter Kalle'))"
   ]
  },
  {
   "cell_type": "code",
   "execution_count": 11,
   "id": "0505d526-be10-44d3-892c-b7e5a2c3bd74",
   "metadata": {},
   "outputs": [
    {
     "name": "stdout",
     "output_type": "stream",
     "text": [
      "BV1.apkg\n",
      "BV2.apkg\n",
      "Klinisk Medicin_ Neuro, Sinnen, Psyke (T9).apkg\n",
      "LÄK BasV2_M1–3.apkg\n",
      "Ultraljud BV3.apkg\n",
      "BV3- Alland Koyikoyan.apkg\n",
      "BV3.apkg\n",
      "Basvetenskap 5 (Filip Borg).apkg\n",
      "DFM2.apkg\n",
      "Basvetenskap 4 (Filip Borg).apkg\n",
      "Klinisk Medicin DX1-6 + VetU av HA & Co.apkg\n",
      "Medicin__Basvetenskap 6.apkg\n",
      "Histologi (Filip Borg).apkg\n",
      "Anatomi (Filip Borg).apkg\n",
      "Klinisk medicin 1.apkg\n",
      "DFM3__Moment 1.apkg\n",
      "BV5 - Aurora Sandart.apkg\n",
      "T5. MVM.apkg\n",
      "MDBI moment 2.apkg\n",
      "Medicin__Basvetenskap 5.2.apkg\n",
      "T1, Alland Koyikoyan.apkg\n",
      "T7__Klinisk kirurgi__Tentor VT_HT 2014-2021.apkg\n",
      "T6__Hud-kursen Tentasamling.apkg\n",
      "T6__Infektionskursen Tentor Kortsvar.apkg\n",
      "T6__Tentasamling Klin Farm & Geriatrik.apkg\n",
      "LÄK BasV1.apkg\n",
      "Medicin__Basvetenskap 4.apkg\n",
      "DFM3__Moment 2.apkg\n",
      "T5. Klinisk kemi MCQ.apkg\n",
      "MDBI moment 1.apkg\n",
      "Klinisk Medicin__Kirurgi.apkg\n",
      "DFM1 tenta.apkg\n",
      "MDBI.apkg\n",
      "Bv4 3D Slicer.apkg\n",
      "DFM2 tenta.apkg\n",
      "DSM2.2 Medicinsk diagnostik Gamla tentor Victoria Nord.apkg\n",
      "Medicin__Basvetenskap 5.apkg\n",
      "Klinisk medicin 1 (T5).apkg\n",
      "T6__Tentor inför DX3.apkg\n",
      "LÄK BasV2_Biochem_Mega-mazzo.apkg\n",
      "BV6.apkg\n",
      "BV3 Histologi Statex 1 & 2 Mardin.apkg\n",
      "BV4.apkg\n",
      "DSM2.Tentamen.19VT-21HT.apkg\n",
      "DX4.Tentamina.20HT.-.22HT.apkg\n",
      "DX6.Tentamen.17VT-23VT.MCQ-SBA.apkg\n",
      "DX1.Tentamen.20VT-22VT.apkg\n",
      "DSM1.Tentamen.18VT-21VT.apkg\n",
      "Kir.Tentamen.20VT-23VT.apkg\n",
      "MVM.Tentamen.20HT-22VT.apkg\n",
      "DX2.Tentamen.20VT-22VT.apkg\n",
      "DX5.Tentamen.17HT.18VT.19VT.20HT-22VT.apkg\n",
      "DX3.Tentamina.19HT-22HT.apkg\n"
     ]
    }
   ],
   "source": [
    "pre_path = '../../data/finetuning/hus75/apkg'\n",
    "directory = os.fsencode(pre_path)\n",
    "for file in os.listdir(directory):\n",
    "    filename = os.fsdecode(file)\n",
    "    if filename.endswith(\".apkg\"):\n",
    "        with zipfile.ZipFile(pre_path + '/'+ filename, 'r') as zip_ref:\n",
    "            zip_ref.extractall('../../data/finetuning/hus75/unzipped/'+filename)\n",
    "        print(filename)"
   ]
  },
  {
   "cell_type": "code",
   "execution_count": 15,
   "id": "430f7c08-b20b-45cd-bef2-7b54ef981a19",
   "metadata": {},
   "outputs": [],
   "source": [
    "df = pd.read_csv('../Finetuning/flashcards/test.csv')"
   ]
  },
  {
   "cell_type": "code",
   "execution_count": 24,
   "id": "4eeca8e6-5ce9-49bc-b7ec-3ffb3b9710fa",
   "metadata": {},
   "outputs": [
    {
     "data": {
      "text/plain": [
       "True"
      ]
     },
     "execution_count": 24,
     "metadata": {},
     "output_type": "execute_result"
    }
   ],
   "source": [
    "df.iloc[20031]['Question'] == \"     \""
   ]
  },
  {
   "cell_type": "code",
   "execution_count": null,
   "id": "8d3a7421-bf91-4758-845e-35b1872c3420",
   "metadata": {},
   "outputs": [],
   "source": []
  }
 ],
 "metadata": {
  "kernelspec": {
   "display_name": "Python 3 (ipykernel)",
   "language": "python",
   "name": "python3"
  },
  "language_info": {
   "codemirror_mode": {
    "name": "ipython",
    "version": 3
   },
   "file_extension": ".py",
   "mimetype": "text/x-python",
   "name": "python",
   "nbconvert_exporter": "python",
   "pygments_lexer": "ipython3",
   "version": "3.10.13"
  }
 },
 "nbformat": 4,
 "nbformat_minor": 5
}
