{
 "cells": [
  {
   "cell_type": "code",
   "execution_count": 4,
   "id": "ff3d897c-996d-4bd6-a6e6-656215a0668c",
   "metadata": {},
   "outputs": [],
   "source": [
    "import pandas as pd\n",
    "import os\n",
    "import numpy as np\n",
    "from sklearn.model_selection import train_test_split\n",
    "from datasets import load_dataset\n",
    "from transformers import AutoTokenizer,AutoModelForCausalLM, BatchEncoding,Trainer, TrainingArguments\n",
    "import torch\n",
    "from math import ceil\n",
    "from transformers import DataCollatorForLanguageModeling\n",
    "import wandb\n",
    "from sys import getsizeof\n",
    "from torch.cuda import device_count\n",
    "from numba import cuda\n",
    "from datasets import Dataset"
   ]
  },
  {
   "cell_type": "code",
   "execution_count": 2,
   "id": "ea293220-fcdc-412c-bc51-60989677fa4b",
   "metadata": {},
   "outputs": [],
   "source": [
    "def chunk_array(arr, chunk_size):\n",
    "    \"\"\"Chunks an array into chunks of specified size.\"\"\"\n",
    "    # For every index in arr stepping by chunk_size, slice arr from that index to index + chunk_size\n",
    "    return [arr[i:i + chunk_size] for i in range(0, len(arr), chunk_size)]\n",
    "\n",
    "def tokenize(element,context_length):\n",
    "    outputs = tokenizer(\n",
    "        element['text'].to_list(),\n",
    "        truncation=False\n",
    "    )\n",
    "    #print(outputs[2].attention_mask)\n",
    "    input_batch = []\n",
    "    for i in range(len(element)):\n",
    "        temp = outputs[i].ids.copy()\n",
    "        temp.append(tokenizer.encode(tokenizer.eos_token)[1])\n",
    "        #outputs[i].ids.append(tokenizer.encode(tokenizer.eos_token)[1])\n",
    "        input_batch += temp\n",
    "    print(len(input_batch))\n",
    "    chunks = chunk_array(input_batch, context_length)\n",
    "    if len(chunks[-1]) != context_length:\n",
    "        del chunks[-1]\n",
    "    #last_chunk = chunks[-1]\n",
    "    #n_pads = context_length - len(last_chunk)\n",
    "    #last_chunk += [tokenizer.encode(tokenizer.pad_token)[1]]*n_pads\n",
    "    \n",
    "    wrapped_chunks = [BatchEncoding({\"input_ids\":torch.tensor(chunk), \"attention_mask\":torch.tensor([1]*context_length)}) for chunk in chunks]\n",
    "    \n",
    "    return wrapped_chunks"
   ]
  },
  {
   "cell_type": "code",
   "execution_count": 16,
   "id": "d0528639-4729-4b76-9e13-fbc9f5530558",
   "metadata": {},
   "outputs": [
    {
     "data": {
      "application/vnd.jupyter.widget-view+json": {
       "model_id": "7c57324a39b64fb69c5788051974f293",
       "version_major": 2,
       "version_minor": 0
      },
      "text/plain": [
       "tokenizer_config.json:   0%|          | 0.00/776 [00:00<?, ?B/s]"
      ]
     },
     "metadata": {},
     "output_type": "display_data"
    },
    {
     "data": {
      "application/vnd.jupyter.widget-view+json": {
       "model_id": "e52b7613428d41378cfb1643af0bffa0",
       "version_major": 2,
       "version_minor": 0
      },
      "text/plain": [
       "tokenizer.model:   0%|          | 0.00/500k [00:00<?, ?B/s]"
      ]
     },
     "metadata": {},
     "output_type": "display_data"
    },
    {
     "data": {
      "application/vnd.jupyter.widget-view+json": {
       "model_id": "3710cc2eddd94b39be37105e340d10fa",
       "version_major": 2,
       "version_minor": 0
      },
      "text/plain": [
       "tokenizer.json:   0%|          | 0.00/1.84M [00:00<?, ?B/s]"
      ]
     },
     "metadata": {},
     "output_type": "display_data"
    },
    {
     "data": {
      "application/vnd.jupyter.widget-view+json": {
       "model_id": "3cc6e11cdc9e47dcbf82c44c766d9c7c",
       "version_major": 2,
       "version_minor": 0
      },
      "text/plain": [
       "special_tokens_map.json:   0%|          | 0.00/414 [00:00<?, ?B/s]"
      ]
     },
     "metadata": {},
     "output_type": "display_data"
    }
   ],
   "source": [
    "model_name = 'meta-llama/Llama-2-13b-hf'#'artifacts/checkpoint-cme0pvg4:v2'\n",
    "tokenizer = AutoTokenizer.from_pretrained(model_name,\n",
    "                                          token='')\n",
    "\n",
    "context_length = 4096\n",
    "tokenizer.pad_token = tokenizer.eos_token"
   ]
  },
  {
   "cell_type": "code",
   "execution_count": 51,
   "id": "aa7066c2-4b07-41b1-a0d6-aa8175a11b5d",
   "metadata": {},
   "outputs": [
    {
     "name": "stdout",
     "output_type": "stream",
     "text": [
      "248603\n",
      "{'input_ids': tensor([    1,  4721,   862,  ...,   262,  6352, 20642]), 'attention_mask': tensor([1, 1, 1,  ..., 1, 1, 1])}\n"
     ]
    }
   ],
   "source": [
    "data = pd.read_json(\"pre_train_data.json\",compression=None)\n",
    "train, test = train_test_split(data,test_size = 0.05,random_state = 42)\n",
    "chunks = tokenize(test,context_length)\n",
    "print(chunks[0])"
   ]
  },
  {
   "cell_type": "code",
   "execution_count": 53,
   "id": "61fcf8d2-beab-4f2e-a27c-2837c13f8595",
   "metadata": {},
   "outputs": [
    {
     "name": "stdout",
     "output_type": "stream",
     "text": [
      "8799651\n",
      "input_ids shape: torch.Size([8, 4096])\n",
      "attention_mask shape: torch.Size([8, 4096])\n",
      "labels shape: torch.Size([8, 4096])\n"
     ]
    }
   ],
   "source": [
    "train_chunks = tokenize(train,context_length)\n",
    "data_collator = DataCollatorForLanguageModeling(tokenizer, mlm=False)\n",
    "out = data_collator([chunks[i] for i in range(8)])\n",
    "for key in out:\n",
    "    print(f\"{key} shape: {out[key].shape}\")"
   ]
  },
  {
   "cell_type": "code",
   "execution_count": 23,
   "id": "72ab3e03-b2eb-4110-bf37-4662d69e1c39",
   "metadata": {},
   "outputs": [
    {
     "name": "stdout",
     "output_type": "stream",
     "text": [
      "2148\n"
     ]
    }
   ],
   "source": [
    "print(len(train_chunks))"
   ]
  },
  {
   "cell_type": "code",
   "execution_count": 63,
   "id": "dfda2110-0272-4a70-af5a-2db867eccaf1",
   "metadata": {},
   "outputs": [
    {
     "name": "stdout",
     "output_type": "stream",
     "text": [
      "hållet. När drabbat öga \n",
      "täcks för försvinner den mest perifera bilden. Undersök: Ögonmotorik, pupillreaktioner (normala), B-glukos, \n",
      "BT, Borreliaserologi, SR/CRP, akut neurologremiss om yngre. Diff: Myasteni (kvällstid, ptos), annan \n",
      "kranialnervspares, endokrin oftalmopati (exoftalmus), orbitalt tillstånd. Beh: Mikrovaskulär orsak går i spon\n",
      "regress inom ett par mån. Fresnellprisma på glasögat för eliminera diplopi i primärposition. Täcka för paretis\n",
      "öga. Pat får ej köra bil! Om pares ej går tillbaka inom 6-12 mån är kir möjligt. Uppföljning tills pares gått i \n",
      "regress. Prognos: 100% restitution vid mikroangiopati pga diabetes. 50% vid trauma.  \n",
      "tan \n",
      "kt \n",
      " \n",
      "2. Troklearispares: Akut. Kongenital, trauma, diabetes, arterioskleros, hypertoni, Borrelia, intrakraniell process, \n",
      "temporalisarterit. Tvångshuvudhållning (alltid håller huvudet lite på sned åt friska sidan för minimera diplopin). \n",
      "Bielschowskys head tilt-test: Luta pats huvud åt andra hållet  paretiskt öga åker uppåt  diplopi. Undersök\n",
      "Ögonmotorik (dubbelseende i höjdled vid blick nedåt åt ena sidan, mest perifera bilden försvinner när man \n",
      "täcker för\n",
      ": \n",
      " drabbat öga), pupillreaktioner (oftast normala), fråga om riskfaktorer, ev Borrelia, SR/CRP. Lees \n",
      "skärm kan dokumentera pares. Diff: Myasteni, andra kranialnervspareser. Beh: Exspektans initialt (majoriteten \n",
      "går i spontan regress), täcka för ena ögat, prismaglas vid kongenital genes, stor skelningsvinkel åtgärdas efter 6-\n",
      "12 mån med kir. Uppföljning tills pares gått i regress. Prognos som vid abducenspares.  \n",
      "3. Okulomotoriuspares: Akut. Komplett/partiell (pupillsparande). Ögat ställer sig utåt, nedåt och roterat. Ev \n",
      "total ptos. Mydriasis och ackommodationsinsuff vid total pares (aneurysm, trauma). Dubbelseende i alla \n",
      "riktningar förutom nedåt åt ena sidan, försvinner när drabbat öga täcks för. Undersök: Visus, inspektera ögat \n",
      "iasis), oftalmoskopera, covertest (exotropi, hypotropi), ögonmotorik, ev blodstatus, B-glukos, \n",
      "artiell \n",
      "tos, \n",
      " 1 \n",
      "ns \n",
      "(ptos, mydr\n",
      "Borrelia, SR/CRP (temporalisarterit), neurologstatus. Akut neurologremiss för MR vid total pares eller p\n",
      "hos yngre. Lees skärm. Diff: Myastenia gravis (påverkar ej pupill), endokrin oftalmopati, Horners syndrom (p\n",
      "mios, men ej ögonmuskelpares). Beh: Kontrollera pupill efter 1-2d. Exspektans vid partiell pares, kontroll om\n",
      "mån. MR om tillkomst av neurologiska symtom. Om ej total ptos kan ena ögat täckas för eller ocklusionsli\n",
      "användas för undvika dubbelbilder. Ev skelningsop efter tidigast 6 mån. Uppföljning. Prognos som vid övriga \n",
      "pareser.  \n",
      " \n",
      "Trauma:  \n",
      "1. Kontusion: Akut. Vanligt vid slag mot ansiktet. Viktigt se om inre skada eller endast bulbkontusion. \n",
      "Undersök: Försök trycka undan ödemet i ögonlocket så ögat går att undersöka. Titta efter subkonjunktival \n",
      "blödning, bulbperforation (Seidels test, färga), kornealerosion, blod i främre kammaren, pupillreaktion, lins, \n",
      "glaskroppsblödning, retinalödem, koroidalsprickor, ögonmotilitet, visus. Biomikroskopera, UL (amotio).  \n",
      "Diff: Bulbperforation. Beh: Om hemaceller i främre kammaren/hyfema/orbitafraktur (se nedan). Om retinalt \n",
      "ödem/pupillpåverkan: Exspektans. Kornealerosion: Oculentum simplex x5 i 5d. Prognos: God, men risk för \n",
      "mydriatisk pupill, katarakt.  \n",
      "2. Hyfema: Akut inom något dygn. Kompl till ögontrauma. Blödning i främre kammaren med blodnivå nertill. \n",
      "Följ resorption genom mäta vätskenivåhöjd. Stor risk för värre reblödning <3-4d (pat bör vara stilla)  \n",
      "chokladkornea. Tät uppföljning. Undersök: Visus, ögonmotorik, pupillreaktion, ögoninspektion (dilatera ej pga \n",
      "trängre kammarvinkel), ögonläk (biomikroskop, tryckät, ev UL). Diff: Spontant hyfema pga \n",
      "koagulationsrubbning, irisrubeos, iriskärlmissbildningar. Beh: Steroiddroppar Isopto-Maxidex x3, barn läggs in. \n",
      "Stillhet 3-4d. Ej lapp för ögat, ej salicylika. Förhöjt tryck beh med trycksänkande droppar, om otillräcklig så \n",
      "tillägg av Diamox/mannitoldropp. Uppföljning: Ögonklinik om 3-5d. Prognos: God, chokladkornea kräver \n",
      "kornealtransplantation.  \n",
      " \n",
      "3. Bulbperforation: Akut. Vanligare vid spetsigt våld än trubbigt. Op akut + ab iv. Om något prolaberar (”brun \n",
      "klump”) låt det vara! Kvarstående kompl: Korneala ärr, astigmatism, vitreoretinal traktion med amotio. Om \n",
      "kapseln ej är skadad sätter man in skadad lins där eller lämnar ögat afakt till senare tillfälle. Främmande kropp \n",
      "undersöks med UL/rtg och avlägsnas. Undersök: Visus, ögonmotorik, inspektera (peta ej!), ögonläk \n",
      "(biomikroskop, ej UL\n",
      "rrän ögat är ihopsytt). Diff: Kontusion, bulbpenetration. Beh: Iv ab (Zinacef 1,5 x3), sy  fö\n",
      "ihop öga på op, vävnadssparande. Uppföljning med täta intervall (endoftalmitrisk). Skadans grad är avgörande\n",
      "för prognosen.  \n",
      " \n",
      "4. Blowout-fraktur: Akut. Kompl till trubbigt våld (knytnäve, tennisboll) mot ögonregionen. Trycket ökar i \n",
      "lseende \n",
      "tationer), \n",
      " \n",
      "orbita vilket inte orbitagolvet och mediala väggen klarar av  inklämd ögonmuskel  fraktur och dubbe\n",
      "ffa vid uppåtblick. Pat ska ej snyta sig om luft tryckts ut i vävnaderna. Undersök känsel nedanför ögat. \n",
      "Öron/plastikkir. Undersök: Ögonmotorik, pupillreaktioner, oftalmoskopera, palpera orbitakanten (krepi\n",
      "DT-orbita vid frakturmisstanke. Ev forced duction-test. Diff: Kontusion. Beh: Ev op. Vänta 1-2v för se om\n",
      "dubbelseendet går över när svullnaden lägger sig. Barn op direkt pga risk för trapdoorfraktur. Uppföljning. \n",
      "Prognos: God, enoftalmus som kompl, ärrektropion efter op, kvarvarande dubbelseende.  \n",
      " \n",
      "Övriga: \n",
      "1. Astenopi/ögontrötthet: Måttligt hyperopa personer med ackommodationsförmåga i behåll (<40-50å) \n",
      "ackommoderar för att få klar bild på näthinna utan glasögon. Vissa kan dock få ögonsmärtor, intermittent suddi\n",
      "syn, huvudvärk, intermittent dubbelseende. Plusglas hjälper oftast. Undersök: Visus (addera plusglas), \n",
      "inspektera, ögonmotorik, pupillreaktion. Optiker. Diff: Dekompenserad latent skelning. Beh: Glasögon.  \n",
      "2. Kontaktlinsproblem: Akut. Optiker. Risk: Allergi, små kornealerosioner (somnat med linserna på), kerati\n",
      "(korneainfiltrat). Undersök: Visus, inspektera, oftalmoskopera, färga (erosion/k\n",
      "g \n",
      "t \n",
      "eratit), evertera, (biomikroskop). \n",
      "Diff: Keratit, irit, FK, konjunktivit. Beh: Ta ut KL, Oculentum simplex x4-5 i några dgr vid erosion. Ökad \n",
      "Pseudomonasrisk därför beh med Oftaquix + Oculentum simplex. INTE Chloromycetin! Uppföljning hos optiker.  \n",
      "3. Ögonlockstumör: Basaliom (vanligast), malignt melanom, skivepitelcancer. Duration, progression, ev \n",
      "klåda/blödning. Tidigare hudcancer, strålterapi, exponering för UV-strålning, rökning. Ulceration i komb med \n",
      "små blödningar och krustor, oreg\n",
      " pigmentering, destruktion av normal ögonlockskant, cilieavsaknad, \n",
      "r. Beh: Foto, \n",
      "excision, ev kryoterapi. Uppföljning hos ögonläk. Basaliom har god prognos.   \n",
      "elbunden\n",
      "kraterliknande fördjupning med upphöjda kanter, telangieaktasier, förstorade lgll. ”Vagel som ej försvinner”. \n",
      "Undersök: Inspektera, palpera lgll, ögonläkremiss (ev stansbiopsi). Diff: Benign/malign tumö\n",
      "Basaliom \n",
      "4. Andra ögonregionstum\n",
      "all, skyndsam remiss! Undersök: Visus, oftalmoskop, palpera lgll, \n",
      "örer: Specialistf\n",
      "UL, foto. Diff: Amotio, pinguecula. Beh: Beror på tumör/progress, uppföljning hos ögonläk! \n",
      "Koroidalt melanom \n",
      "5. Horners syndrom: Akut. Skada på sympatikusbanan pga tumör, demyelinisering, karotis/aortaaneurysm me\n",
      "dissektion, Hortons huvudvärk, karotis internadissektion, sinus cavernosussjd, trauma. Hos småbarn vid \n",
      "besvärlig förlossning, thoraxkir. Domningar, ataxi, nystagmus tyder på central skada. Om huvudvärk + Horners, \n",
      "d \n",
      "sjuka \n",
      ": \n",
      "s, \n",
      ".  \n",
      "7. Endokrin oftalmopati: Pat med tyroideadysfunktion, kvinnor i medelåldern. 80% Graves, 10% hypotyreos, \n",
      "10% eutyroida. Infl infiltration i orbita  ögonlocksretraktion (”scleral show”)  ser bit av sklera utanför \n",
      "limbus i normaltillståndet  stirrig blick. Torra röda ögon, ögonlocksödem, kemos, proptos. Ovanligare: \n",
      "Keratokonjunktivit, inskränkt ögonmoto\n",
      ", diplopi, optikusneuropati. Retrobulbär värk/tryckkänsla. \n",
      "uteslut karotisdissektion. Svårt tugga. Status: Mios, ptos, enoftalmus, långsam pupilldilation, anhidros, \n",
      "heterokromi, halssvullnad. Undersök: Inspektera, pupillreaktioner, halspalpation, BT, neurostatus, remiss \n",
      "duplex-halskärl/MR. Ögonläk: Diagnos genom droppa 4% kokain i båda ögonen, friska pupillen dilateras, \n",
      "förblir miotisk. Diff: Hortons HV (kraftiga återkommande HV-anfall i ett par timmar, ofta med ögonrodnad, \n",
      "tårande öga, rinnande näsa), migrän, temporalisarterit. Beh: Beror på orsaken. Uppföljning. Ofta god prognos.  \n",
      "6. Anisokori/olikstora pupiller: Akut. Kongenital eller allvarlig sjd. Fråga om neurologiska symtom, \n",
      "huvudvärk, diplopi, lm/missbruk, kontakt med mydriatiskt ämne (vanligt). Frånvaro av ptos och skelning \n",
      "utesluter okulomotoriuspares. Undersök: Inspektera, ptos, ögonmotorik, pupillreflex, oftalmoskopera. Diff\n",
      "Okulomotoriuspares, fysiologisk anisokori (normal pupillreaktion). Beh: Akut remiss om okulomotoriuspare\n",
      "annars exspektans. Pupillen återgår till normalstorlek då exponering av mydriatiskt ämne upphör. Uppföljning\n",
      "rik\n",
      "Allmänsymtom vid hypertyreos: Svettningar, trötthet, viktminskning, hjärtklappning. Oftalmopatin kan debutera \n",
      "flera år innan tyroideasjd. Undersök: Visus, inspektera, oftalmoskopi, pupillreaktioner, ögonmotorik, lab (TSH, \n",
      "T3, T4, TRAK, anti-TOP), ev DT. Diff: Allergi/konjunktivit, orbitatumör, grav myopi. Beh: Rökstopp! Om \n",
      "lindrig, prova Voltaren 50mg x2-3, tårsubstitut mot skavkänsla. Beh tyroideasjd! Om svår behövs ofta \n",
      "glukokortikoider. Kir ej aktuellt förrän inaktiv oftalmopati i 6 mån. Uppföljning på endokrin och ögonläk. \n",
      "Prognos: Progredierar snabbt efter första symtomen, aktiv fas i ca 5 år, majoriteten har lindrig oftalmopati.  \n",
      " \n",
      "8. Myastenia gravis: Autoimmun. Kan drabba enbart ögonen. Uni/bilat ptos och/eller diplopi som förvärras mot \n",
      "kvällen och varierar från dag till dag. Skelning sim\n"
     ]
    }
   ],
   "source": [
    "print(tokenizer.decode(train_chunks[1123]['input_ids']))"
   ]
  },
  {
   "cell_type": "code",
   "execution_count": 7,
   "id": "67e5565c-e2c0-4e96-b6ac-59635147e7eb",
   "metadata": {},
   "outputs": [],
   "source": [
    "prompt1 = '''[INST] <<SYS>>\n",
    "Du är en hjälpsam medicinsk assistent som hjälper läkare och sjuksköterskor genom att sammanfatta information om patienter.\n",
    "Svara på svenska.\n",
    "<</SYS>>\n",
    "Nedan ges anamnes för en patient under en dag\n",
    "<anamnes>'''\n",
    "\n",
    "prompt2 = '''\n",
    "</anamnes>\n",
    "Du ska plocka ut information som passar i mallen nedan. Undvik onödig information och plocka endast ut sådant som rör varje rubrik. Om relevant information saknas så lämnar du rubriken tom.\n",
    "Formattera ditt svar enligt mallen. Ingen information kan finnas under flera rubriker.\n",
    "<mall>\n",
    "*Sjukdomshistoria (Patientens diagnoser, sjukdomshistorik och riskfaktorer (t.ex. sjukdomar i familjen))*\n",
    "\n",
    "*Sökorsaker (Patientens symtom och/eller datum för ingrepp)*\n",
    "\n",
    "*Åtgärder (Planerade undersökningar, behandlingar och åtgärder)*\n",
    "</mall>\n",
    "[/INST]'''\n",
    "data = pd.read_parquet(\"synthetic_229_corrected.parquet\")\n",
    "\n",
    "formatted = []\n",
    "for index, row in data.iterrows():\n",
    "    #print(row)\n",
    "    elem = {'text':f\"<s> {prompt1}\\n{row['description']}{prompt2}\\n{row['summary']} </s>\"}\n",
    "    formatted.append(elem)\n",
    "    \n",
    "\n",
    "train, test = train_test_split(formatted,test_size = 0.05,random_state = 42)\n",
    "train = Dataset.from_list(train)\n",
    "test = Dataset.from_list(test)"
   ]
  },
  {
   "cell_type": "code",
   "execution_count": 25,
   "id": "820b9127-8f29-4c9c-b146-041c598ddbd3",
   "metadata": {},
   "outputs": [
    {
     "name": "stdout",
     "output_type": "stream",
     "text": [
      "12502\n"
     ]
    }
   ],
   "source": [
    "lengths = 0\n",
    "for data in test:\n",
    "    #print(len(tokenizer.encode(data['text'])[1:]))\n",
    "    lengths += len(tokenizer.encode(data['text'])[1:])\n",
    "print(lengths)"
   ]
  },
  {
   "cell_type": "code",
   "execution_count": null,
   "id": "84058a8c-e80f-41a6-84df-fa08d94b1a37",
   "metadata": {},
   "outputs": [],
   "source": []
  }
 ],
 "metadata": {
  "kernelspec": {
   "display_name": "Python 3 (ipykernel)",
   "language": "python",
   "name": "python3"
  },
  "language_info": {
   "codemirror_mode": {
    "name": "ipython",
    "version": 3
   },
   "file_extension": ".py",
   "mimetype": "text/x-python",
   "name": "python",
   "nbconvert_exporter": "python",
   "pygments_lexer": "ipython3",
   "version": "3.10.13"
  }
 },
 "nbformat": 4,
 "nbformat_minor": 5
}
