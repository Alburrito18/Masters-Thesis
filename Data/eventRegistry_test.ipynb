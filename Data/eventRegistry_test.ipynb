{
 "cells": [
  {
   "cell_type": "code",
   "execution_count": 4,
   "metadata": {},
   "outputs": [],
   "source": [
    "from eventregistry import *\n",
    "YOUR_API_KEY = ''\n",
    "er = EventRegistry(apiKey = YOUR_API_KEY)\n",
    "query = {\n",
    "  \"$query\": {\n",
    "    \"$and\": [\n",
    "      {\n",
    "        \"sourceUri\": \"lakartidningen.se\"\n",
    "      },\n",
    "      {\n",
    "        \"lang\": \"swe\"\n",
    "      }\n",
    "    ]\n",
    "  },\n",
    "  \"$filter\": {\n",
    "    \"forceMaxDataTimeWindow\": \"31\"\n",
    "  }\n",
    "}\n",
    "q = QueryArticlesIter.initWithComplexQuery(query)\n",
    "# change maxItems to get the number of results that you want\n",
    "l = list()\n",
    "articles = q.execQuery(er, maxItems=2)\n",
    "for article in articles:\n",
    "    l.append(article)"
   ]
  },
  {
   "cell_type": "code",
   "execution_count": 6,
   "metadata": {},
   "outputs": [
    {
     "data": {
      "text/plain": [
       "{'uri': '2024-03-293035821',\n",
       " 'lang': 'swe',\n",
       " 'isDuplicate': False,\n",
       " 'date': '2024-03-18',\n",
       " 'time': '10:57:27',\n",
       " 'dateTime': '2024-03-18T10:57:27Z',\n",
       " 'dateTimePub': '2024-03-18T09:37:13Z',\n",
       " 'dataType': 'news',\n",
       " 'sim': 0,\n",
       " 'url': 'https://lakartidningen.se/aktuellt/nyheter/2024/03/fall-av-massling-upptackt-i-skane/',\n",
       " 'title': 'Fall av mässling upptäckt i Skåne',\n",
       " 'body': 'År 2019 var senaste gången fall av mässling upptäcktes i Skåne, då sammanlagt sex personer insjuknade i sjukdomen. Nu har ett fall på nytt upptäckts i regionen, skriver Sydsvenskan.\\n\\nThomas Nilsson på Region Skånes presstjänst säger till tidningen att smittspårning pågår.\\n\\n- Smittskyddsläkare intervjuar nu personer som har varit i kontakt med den smittade, och går bakåt från kontakt till kontakt.\\n\\nEnligt uppgifter till Sydsvenskan har patienter som besökt en viss barnakut i regionen kallats till provtagning för smittspårning.\\n\\nÄven i Gävleborg, Västra Götaland, Västmanland och i Stockholm har enstaka fall av mässling hittats hittills i år, enligt statistik från Folkhälsomyndigheten. Under förra året noterades 11 fall av sjukdomen i Sverige.',\n",
       " 'source': {'uri': 'lakartidningen.se',\n",
       "  'dataType': 'news',\n",
       "  'title': 'Läkartidningen'},\n",
       " 'authors': [],\n",
       " 'image': 'https://lakartidningen.se/wp-content/uploads/2024/03/31169195-measles-virus-cell.jpg',\n",
       " 'eventUri': None,\n",
       " 'sentiment': None,\n",
       " 'wgt': 1,\n",
       " 'relevance': 1}"
      ]
     },
     "execution_count": 6,
     "metadata": {},
     "output_type": "execute_result"
    }
   ],
   "source": [
    "l[0]"
   ]
  }
 ],
 "metadata": {
  "kernelspec": {
   "display_name": "base",
   "language": "python",
   "name": "python3"
  },
  "language_info": {
   "codemirror_mode": {
    "name": "ipython",
    "version": 3
   },
   "file_extension": ".py",
   "mimetype": "text/x-python",
   "name": "python",
   "nbconvert_exporter": "python",
   "pygments_lexer": "ipython3",
   "version": "3.9.18"
  }
 },
 "nbformat": 4,
 "nbformat_minor": 2
}
