{
 "cells": [
  {
   "cell_type": "code",
   "execution_count": 1,
   "metadata": {},
   "outputs": [],
   "source": [
    "import pandas as pd\n",
    "pth = '../../Pre-training/synthetic_5th_april.parquet'\n",
    "n = 1"
   ]
  },
  {
   "cell_type": "code",
   "execution_count": 2,
   "metadata": {},
   "outputs": [
    {
     "name": "stdout",
     "output_type": "stream",
     "text": [
      "457\n"
     ]
    }
   ],
   "source": [
    "d = pd.read_parquet(pth)\n",
    "print(len(d))"
   ]
  },
  {
   "cell_type": "code",
   "execution_count": 3,
   "metadata": {},
   "outputs": [
    {
     "name": "stdout",
     "output_type": "stream",
     "text": [
      "\n",
      "*Sjukdomshistoria*\n",
      "• Hypertoni under behandling, tidigare rökare.\n",
      "• Ålder 58 år.\n",
      "\n",
      "*Sökorsaker*\n",
      "• Andningssvårigheter och skarp bröstsmärta under de senaste fyra dagarna, smärtan förvärras vid djupa andetag.\n",
      "• sbp: 155.0\n",
      "• dbp: 85.0\n",
      "• sat: 94.0\n",
      "• puls: 95.0\n",
      "• temp: 38.1\n",
      "• af: 22.0\n",
      "• Förhöjt CRP, D-dimer ökat\n",
      "\n",
      "*Åtgärder*\n",
      "• Behandling med NSAID och hostmedicinering påbörjas.\n",
      "• Planeras uppföljning och utvärdering av behandlingen.\n",
      "• Ev. inläggning på vårdavdelning för smärtlindring och observation om ej bättring.\n",
      "• Huvuddiagnos R09.1 Pleurit.\n",
      "\n"
     ]
    }
   ],
   "source": [
    "print(d.iloc[226]['summary'])"
   ]
  },
  {
   "cell_type": "code",
   "execution_count": 17,
   "metadata": {},
   "outputs": [
    {
     "name": "stdout",
     "output_type": "stream",
     "text": [
      "sokorsak: Andnöd\n",
      "kon: K\n",
      "alder: 63\n",
      "socialt: Änka, bor ensam i lägenhet. Två vuxna barn.\n",
      "tidigare_sjukdomar: Hypertoni behandlad med ACE-hämmare. Bröstcancer opererad 2015, efterföljande strålbehandling. Friskförklarad från cancern. Astma sedan ungdomen, inhalationssteroider och beta-2-stimulerare vid behov.\n",
      "aktuellt: Ökad andnöd vid ansträngning sedan en vecka tillbaka. Inga bröstsmärtor, men en känsla av trånghet i bröstet. Något hosta, men utan sputum.\n",
      "allmantillstand: Något ansträngt men stabilt.\n",
      "hjarta: Takykard, regelbunden rytm utan blåsljud.\n",
      "lungor: Ronki över båda lungfälten bilateralt, övrigt u.a.\n",
      "sbp: 170.0\n",
      "dbp: 90.0\n",
      "sat: 92.0\n",
      "puls: 88.0\n",
      "temp: 36.8\n",
      "af: 18.0\n",
      "lokalstatus: Thorax utan smärta eller tryckömhet. Ingen perifer ödem.\n",
      "lab: CRP lätt förhöjt, arteriell blodgas visar lätt hypoxi och hypocapni.\n",
      "bedomning: Kompletteras med hjärt-eko och spirometri. Sannolik exacerbation av astma möjligen påverkad av hjärtfunktion. Inläggning på medicinklinik för observation, inhalationsbehandling och eventuellt diuretika.\n",
      "huvuddiagnos_001: J44\n"
     ]
    }
   ],
   "source": [
    "index = 439\n",
    "print(d.iloc[index]['description'])"
   ]
  },
  {
   "cell_type": "code",
   "execution_count": 20,
   "metadata": {},
   "outputs": [
    {
     "name": "stdout",
     "output_type": "stream",
     "text": [
      "*Sjukdomshistoria*\n",
      " - Hypertension behandlad med ACE-hämmare\n",
      " - Tidigare bröstcancer med genomgången operation och strålbehandling. \n",
      " - Astma sedan ungdomen, inhalationssteroider och beta-2-stimulerare vid behov.\n",
      "\n",
      "*Sökorsaker*\n",
      " - Ökad andnöd vid ansträngning sedan en vecka. \n",
      " - Känsla av trånghet i bröstet.\n",
      " - Takykard\n",
      " - Ronki över båda lungfälten bilateralt\n",
      " - sbp: 170.0\n",
      " - dbp: 90.0\n",
      " - sat: 92.0\n",
      " - puls: 88.0\n",
      " - temp: 36.8\n",
      " - af: 18.0\n",
      " - CRP lätt förhöjt\n",
      " - Lätt hypoxi och hypocapni\n",
      "\n",
      "*Åtgärder*\n",
      " - Planeras för hjärt-eko och spirometri. \n",
      " - Inläggning på medicinklinik för observation och behandling med inhalationer och eventuellt diuretika vid behov.\n"
     ]
    }
   ],
   "source": [
    "print(d.iloc[index]['summary'])"
   ]
  },
  {
   "cell_type": "code",
   "execution_count": 19,
   "metadata": {},
   "outputs": [],
   "source": [
    "d.iloc[index]['summary'] = \"\"\"*Sjukdomshistoria*\n",
    " - Hypertension behandlad med ACE-hämmare\n",
    " - Tidigare bröstcancer med genomgången operation och strålbehandling. \n",
    " - Astma sedan ungdomen, inhalationssteroider och beta-2-stimulerare vid behov.\n",
    "\n",
    "*Sökorsaker*\n",
    " - Ökad andnöd vid ansträngning sedan en vecka. \n",
    " - Känsla av trånghet i bröstet.\n",
    " - Takykard\n",
    " - Ronki över båda lungfälten bilateralt\n",
    " - sbp: 170.0\n",
    " - dbp: 90.0\n",
    " - sat: 92.0\n",
    " - puls: 88.0\n",
    " - temp: 36.8\n",
    " - af: 18.0\n",
    " - CRP lätt förhöjt\n",
    " - Lätt hypoxi och hypocapni\n",
    "\n",
    "*Åtgärder*\n",
    " - Planeras för hjärt-eko och spirometri. \n",
    " - Inläggning på medicinklinik för observation och behandling med inhalationer och eventuellt diuretika vid behov.\"\"\""
   ]
  },
  {
   "cell_type": "code",
   "execution_count": 21,
   "metadata": {},
   "outputs": [],
   "source": [
    "d.to_parquet(pth,compression=None)"
   ]
  }
 ],
 "metadata": {
  "kernelspec": {
   "display_name": "base",
   "language": "python",
   "name": "python3"
  },
  "language_info": {
   "codemirror_mode": {
    "name": "ipython",
    "version": 3
   },
   "file_extension": ".py",
   "mimetype": "text/x-python",
   "name": "python",
   "nbconvert_exporter": "python",
   "pygments_lexer": "ipython3",
   "version": "3.9.18"
  }
 },
 "nbformat": 4,
 "nbformat_minor": 2
}
