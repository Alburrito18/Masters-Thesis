{
 "cells": [
  {
   "cell_type": "code",
   "execution_count": 13,
   "id": "0b0d1458-95fc-43bc-85ec-a95d540b0e5f",
   "metadata": {},
   "outputs": [
    {
     "name": "stdout",
     "output_type": "stream",
     "text": [
      "Defaulting to user installation because normal site-packages is not writeable\n",
      "Requirement already satisfied: tiktoken in /workspace/.local/lib/python3.10/site-packages (0.6.0)\n",
      "Requirement already satisfied: regex>=2022.1.18 in /opt/conda/lib/python3.10/site-packages (from tiktoken) (2023.12.25)\n",
      "Requirement already satisfied: requests>=2.26.0 in /opt/conda/lib/python3.10/site-packages (from tiktoken) (2.31.0)\n",
      "Requirement already satisfied: charset-normalizer<4,>=2 in /opt/conda/lib/python3.10/site-packages (from requests>=2.26.0->tiktoken) (2.0.4)\n",
      "Requirement already satisfied: idna<4,>=2.5 in /opt/conda/lib/python3.10/site-packages (from requests>=2.26.0->tiktoken) (3.4)\n",
      "Requirement already satisfied: urllib3<3,>=1.21.1 in /opt/conda/lib/python3.10/site-packages (from requests>=2.26.0->tiktoken) (1.26.18)\n",
      "Requirement already satisfied: certifi>=2017.4.17 in /opt/conda/lib/python3.10/site-packages (from requests>=2.26.0->tiktoken) (2023.7.22)\n",
      "Note: you may need to restart the kernel to use updated packages.\n",
      "Defaulting to user installation because normal site-packages is not writeable\n",
      "Requirement already satisfied: openai in /opt/conda/lib/python3.10/site-packages (1.13.3)\n",
      "Collecting openai\n",
      "  Downloading openai-1.14.2-py3-none-any.whl.metadata (19 kB)\n",
      "Requirement already satisfied: anyio<5,>=3.5.0 in /opt/conda/lib/python3.10/site-packages (from openai) (4.2.0)\n",
      "Requirement already satisfied: distro<2,>=1.7.0 in /opt/conda/lib/python3.10/site-packages (from openai) (1.9.0)\n",
      "Requirement already satisfied: httpx<1,>=0.23.0 in /opt/conda/lib/python3.10/site-packages (from openai) (0.27.0)\n",
      "Requirement already satisfied: pydantic<3,>=1.9.0 in /opt/conda/lib/python3.10/site-packages (from openai) (2.6.1)\n",
      "Requirement already satisfied: sniffio in /opt/conda/lib/python3.10/site-packages (from openai) (1.3.0)\n",
      "Requirement already satisfied: tqdm>4 in /opt/conda/lib/python3.10/site-packages (from openai) (4.65.0)\n",
      "Requirement already satisfied: typing-extensions<5,>=4.7 in /opt/conda/lib/python3.10/site-packages (from openai) (4.7.1)\n",
      "Requirement already satisfied: idna>=2.8 in /opt/conda/lib/python3.10/site-packages (from anyio<5,>=3.5.0->openai) (3.4)\n",
      "Requirement already satisfied: exceptiongroup>=1.0.2 in /opt/conda/lib/python3.10/site-packages (from anyio<5,>=3.5.0->openai) (1.0.4)\n",
      "Requirement already satisfied: certifi in /opt/conda/lib/python3.10/site-packages (from httpx<1,>=0.23.0->openai) (2023.7.22)\n",
      "Requirement already satisfied: httpcore==1.* in /opt/conda/lib/python3.10/site-packages (from httpx<1,>=0.23.0->openai) (1.0.4)\n",
      "Requirement already satisfied: h11<0.15,>=0.13 in /opt/conda/lib/python3.10/site-packages (from httpcore==1.*->httpx<1,>=0.23.0->openai) (0.14.0)\n",
      "Requirement already satisfied: annotated-types>=0.4.0 in /opt/conda/lib/python3.10/site-packages (from pydantic<3,>=1.9.0->openai) (0.6.0)\n",
      "Requirement already satisfied: pydantic-core==2.16.2 in /opt/conda/lib/python3.10/site-packages (from pydantic<3,>=1.9.0->openai) (2.16.2)\n",
      "Downloading openai-1.14.2-py3-none-any.whl (262 kB)\n",
      "\u001b[2K   \u001b[90m━━━━━━━━━━━━━━━━━━━━━━━━━━━━━━━━━━━━━━━━\u001b[0m \u001b[32m262.4/262.4 kB\u001b[0m \u001b[31m9.0 MB/s\u001b[0m eta \u001b[36m0:00:00\u001b[0m\n",
      "\u001b[?25hInstalling collected packages: openai\n",
      "\u001b[33m  WARNING: The script openai is installed in '/workspace/.local/bin' which is not on PATH.\n",
      "  Consider adding this directory to PATH or, if you prefer to suppress this warning, use --no-warn-script-location.\u001b[0m\u001b[33m\n",
      "\u001b[0mSuccessfully installed openai-1.14.2\n",
      "Note: you may need to restart the kernel to use updated packages.\n"
     ]
    }
   ],
   "source": [
    "%pip install --upgrade tiktoken\n",
    "%pip install --upgrade openai"
   ]
  },
  {
   "cell_type": "code",
   "execution_count": 32,
   "id": "0f2ff5a5-93e5-4e7e-b686-3f02b3415a36",
   "metadata": {},
   "outputs": [],
   "source": [
    "import pandas as pd\n",
    "import numpy as np\n",
    "import tiktoken"
   ]
  },
  {
   "cell_type": "code",
   "execution_count": 33,
   "id": "f353c02a-7603-4f86-8036-eb5512938cdf",
   "metadata": {},
   "outputs": [],
   "source": [
    "mock_data_path = \"../../data/llm-anamnesis/mock_data_2_big.xlsx\"\n",
    "dfs = pd.read_excel(mock_data_path, sheet_name=None, index_col=None)\n",
    "\n",
    "# Convert json objects to dict\n",
    "#for table, df in dfs.items():\n",
    "#    for col in [\"schedule_params\", \"filter\", \"model_params\", \"metadata\"]:\n",
    "#        if col in df.columns:\n",
    "#            df[col] = df[col].apply(lambda x: json.loads(x))\n",
    "\n",
    "raw_df = dfs[\"raw\"]\n",
    "config_df = dfs[\"config\"]\n",
    "summary_df = dfs[\"summarized\"]"
   ]
  },
  {
   "cell_type": "code",
   "execution_count": 34,
   "id": "be4513bb-1fa7-4ee0-bd4d-d9a3fe52b985",
   "metadata": {},
   "outputs": [],
   "source": [
    "summary_df['patient_id'] = summary_df['patient_ids'].apply(lambda x: x[1:-1] if x[0]=='[' else x)\n",
    "summary_df['date'] = summary_df['dates'].apply(lambda x:x[1:-1])\n",
    "raw_df['patient_id'] = raw_df['patient_id'].astype(str) \n",
    "all_text = \"\"\n",
    "#pandas_list = list()\n",
    "answers = list()\n",
    "references = list()\n",
    "nAnswers = 0\n",
    "\n",
    "texts = []\n",
    "\n",
    "for index,r in summary_df.iterrows():\n",
    "    temp_df = raw_df.loc[(raw_df['patient_id']==r['patient_id'])&(raw_df['date']==r['date'])]\n",
    "    text = \"\"\n",
    "    for row in temp_df.iterrows():\n",
    "        row = row[1]\n",
    "        if row['metadata'] != np.nan:\n",
    "            text += str(row['metadata'])\n",
    "        text +=row['text']\n",
    "    if text == \"\":\n",
    "        continue\n",
    "    \n",
    "    texts.append(text)"
   ]
  },
  {
   "cell_type": "code",
   "execution_count": 35,
   "id": "9e9e77c6-83d5-4e81-b32b-5d8ce61360cd",
   "metadata": {},
   "outputs": [],
   "source": [
    "def mean_tokens_from_list(str_list : [str]):\n",
    "    encoding = tiktoken.encoding_for_model(\"gpt-4-turbo-preview\")\n",
    "    return np.mean([len(encoding.encode(elem)) for elem in str_list])\n"
   ]
  },
  {
   "cell_type": "code",
   "execution_count": 36,
   "id": "21c2ba5b-9fd5-481d-b4b3-a8b8529c4053",
   "metadata": {},
   "outputs": [
    {
     "data": {
      "text/plain": [
       "674.5909090909091"
      ]
     },
     "execution_count": 36,
     "metadata": {},
     "output_type": "execute_result"
    }
   ],
   "source": [
    "mean_tokens_from_list(texts) #counts the avg number of input tokens (just using patient-info)"
   ]
  },
  {
   "cell_type": "code",
   "execution_count": 37,
   "id": "e493cd25-8e09-4457-9438-5d9798285e99",
   "metadata": {},
   "outputs": [
    {
     "data": {
      "text/plain": [
       "304.7916666666667"
      ]
     },
     "execution_count": 37,
     "metadata": {},
     "output_type": "execute_result"
    }
   ],
   "source": [
    "mean_tokens_from_list(summary_df[\"text\"].to_list()) # counts the avg number of output tokens"
   ]
  },
  {
   "cell_type": "code",
   "execution_count": 38,
   "id": "07ae521b-1b16-4cad-9318-23f367ae17bb",
   "metadata": {},
   "outputs": [
    {
     "data": {
      "text/plain": [
       "176"
      ]
     },
     "execution_count": 38,
     "metadata": {},
     "output_type": "execute_result"
    }
   ],
   "source": [
    "sample_instruction = \"\"\"You are a helpful medical assistant who helps medical proffesionals by summarizing information about patients.\n",
    "Answer with a bulleted list for each category in the given template.\n",
    "Answer in Swedish.\n",
    "<</SYS>>\n",
    "Below is the history of a patient during one day\n",
    "<anamnesis>\n",
    "*\n",
    "</anamnesis>\n",
    "You must select information that fits in the template below. Avoid unnecessary information and only pick out things that relate to each heading. If relevant information is missing, leave the heading blank. Do not include any information in multiple headings.\n",
    "<template>\n",
    "*Sjukdomshistoria (The patient's diagnoses, medical history and risk factors (e.g. diseases in the family))*\n",
    "\n",
    "*Sökorsaker (Patient's symptoms and/or date of procedure)*\n",
    "\n",
    "*Åtgärder (Planned examinations, treatments and measures)*\n",
    "\n",
    "</template>\"\"\"\n",
    "len(encoding.encode(sample_instruction))"
   ]
  },
  {
   "cell_type": "code",
   "execution_count": 39,
   "id": "e07c19de-3440-433c-acf2-1e83b1e2ee76",
   "metadata": {},
   "outputs": [],
   "source": [
    "# input cost per example:\n",
    "# assumption: instruction is 200 tokens\n",
    "# total input tokens = instruction + input + output = 675 + 305 + 200 = 1180\n",
    "# input cost per example = 1180 * 1/100_000 = 0.0118\n",
    "\n",
    "# output cost per example:\n",
    "# total output tokens = input + output = 980\n",
    "# output cost per example = 980 * 3/100_000 = 0.0294\n",
    "\n",
    "#total cost per example:\n",
    "# input cost + output cost = 0.0118 + 0.0294 = 0.0412\n",
    "\n",
    "# total cost for 1000 examples:\n",
    "# 0.0412 * 1000 = 41.2$"
   ]
  }
 ],
 "metadata": {
  "kernelspec": {
   "display_name": "Python 3 (ipykernel)",
   "language": "python",
   "name": "python3"
  },
  "language_info": {
   "codemirror_mode": {
    "name": "ipython",
    "version": 3
   },
   "file_extension": ".py",
   "mimetype": "text/x-python",
   "name": "python",
   "nbconvert_exporter": "python",
   "pygments_lexer": "ipython3",
   "version": "3.10.13"
  }
 },
 "nbformat": 4,
 "nbformat_minor": 5
}
