{
 "cells": [
  {
   "cell_type": "code",
   "execution_count": 1,
   "metadata": {},
   "outputs": [],
   "source": [
    "import pandas as pd\n",
    "from summa import summarizer\n",
    "import ast"
   ]
  },
  {
   "cell_type": "code",
   "execution_count": 2,
   "metadata": {},
   "outputs": [],
   "source": [
    "df = pd.read_excel(io='../Data/mock_data_5.xlsx', \n",
    "                   sheet_name=None, \n",
    "                   index_col=None\n",
    "                )\n",
    "raw = df[\"raw\"]\n",
    "config = df[\"config\"]\n",
    "summary = df[\"summarized\"]"
   ]
  },
  {
   "cell_type": "code",
   "execution_count": 3,
   "metadata": {},
   "outputs": [
    {
     "data": {
      "text/html": [
       "<div>\n",
       "<style scoped>\n",
       "    .dataframe tbody tr th:only-of-type {\n",
       "        vertical-align: middle;\n",
       "    }\n",
       "\n",
       "    .dataframe tbody tr th {\n",
       "        vertical-align: top;\n",
       "    }\n",
       "\n",
       "    .dataframe thead th {\n",
       "        text-align: right;\n",
       "    }\n",
       "</style>\n",
       "<table border=\"1\" class=\"dataframe\">\n",
       "  <thead>\n",
       "    <tr style=\"text-align: right;\">\n",
       "      <th></th>\n",
       "      <th>summary_id</th>\n",
       "      <th>summary_datetime</th>\n",
       "      <th>config_id</th>\n",
       "      <th>model</th>\n",
       "      <th>patient_ids</th>\n",
       "      <th>doc_ids</th>\n",
       "      <th>dates</th>\n",
       "      <th>metadata</th>\n",
       "      <th>text</th>\n",
       "    </tr>\n",
       "  </thead>\n",
       "  <tbody>\n",
       "    <tr>\n",
       "      <th>0</th>\n",
       "      <td>101</td>\n",
       "      <td>2024-02-19</td>\n",
       "      <td>101</td>\n",
       "      <td>human</td>\n",
       "      <td>[pat1]</td>\n",
       "      <td>[101]</td>\n",
       "      <td>[2024-01-13]</td>\n",
       "      <td>{}</td>\n",
       "      <td>Sjukdomshistoria (Patientens diagnoser, sjukdo...</td>\n",
       "    </tr>\n",
       "    <tr>\n",
       "      <th>1</th>\n",
       "      <td>102</td>\n",
       "      <td>2024-02-19</td>\n",
       "      <td>101</td>\n",
       "      <td>human</td>\n",
       "      <td>[pat1]</td>\n",
       "      <td>[102, 103, 104, 105]</td>\n",
       "      <td>[2024-01-14]</td>\n",
       "      <td>{}</td>\n",
       "      <td>Sjukdomshistoria (Patientens diagnoser, sjukdo...</td>\n",
       "    </tr>\n",
       "    <tr>\n",
       "      <th>2</th>\n",
       "      <td>103</td>\n",
       "      <td>2024-02-19</td>\n",
       "      <td>101</td>\n",
       "      <td>human</td>\n",
       "      <td>[pat2]</td>\n",
       "      <td>[106]</td>\n",
       "      <td>[2024-01-23]</td>\n",
       "      <td>{}</td>\n",
       "      <td>Sjukdomshistoria (Patientens diagnoser, sjukdo...</td>\n",
       "    </tr>\n",
       "    <tr>\n",
       "      <th>3</th>\n",
       "      <td>104</td>\n",
       "      <td>2024-02-19</td>\n",
       "      <td>101</td>\n",
       "      <td>human</td>\n",
       "      <td>[pat2]</td>\n",
       "      <td>[107, 108, 109]</td>\n",
       "      <td>[2024-01-24]</td>\n",
       "      <td>{}</td>\n",
       "      <td>Sjukdomshistoria (Patientens diagnoser, sjukdo...</td>\n",
       "    </tr>\n",
       "    <tr>\n",
       "      <th>4</th>\n",
       "      <td>105</td>\n",
       "      <td>2024-02-19</td>\n",
       "      <td>101</td>\n",
       "      <td>human</td>\n",
       "      <td>[pat2]</td>\n",
       "      <td>[110, 111]</td>\n",
       "      <td>[2024-01-25]</td>\n",
       "      <td>{}</td>\n",
       "      <td>Sjukdomshistoria (Patientens diagnoser, sjukdo...</td>\n",
       "    </tr>\n",
       "  </tbody>\n",
       "</table>\n",
       "</div>"
      ],
      "text/plain": [
       "   summary_id summary_datetime  config_id  model patient_ids  \\\n",
       "0         101       2024-02-19        101  human      [pat1]   \n",
       "1         102       2024-02-19        101  human      [pat1]   \n",
       "2         103       2024-02-19        101  human      [pat2]   \n",
       "3         104       2024-02-19        101  human      [pat2]   \n",
       "4         105       2024-02-19        101  human      [pat2]   \n",
       "\n",
       "                doc_ids         dates metadata  \\\n",
       "0                 [101]  [2024-01-13]       {}   \n",
       "1  [102, 103, 104, 105]  [2024-01-14]       {}   \n",
       "2                 [106]  [2024-01-23]       {}   \n",
       "3       [107, 108, 109]  [2024-01-24]       {}   \n",
       "4            [110, 111]  [2024-01-25]       {}   \n",
       "\n",
       "                                                text  \n",
       "0  Sjukdomshistoria (Patientens diagnoser, sjukdo...  \n",
       "1  Sjukdomshistoria (Patientens diagnoser, sjukdo...  \n",
       "2  Sjukdomshistoria (Patientens diagnoser, sjukdo...  \n",
       "3  Sjukdomshistoria (Patientens diagnoser, sjukdo...  \n",
       "4  Sjukdomshistoria (Patientens diagnoser, sjukdo...  "
      ]
     },
     "execution_count": 3,
     "metadata": {},
     "output_type": "execute_result"
    }
   ],
   "source": [
    "summary.head()"
   ]
  },
  {
   "cell_type": "code",
   "execution_count": 4,
   "metadata": {},
   "outputs": [
    {
     "data": {
      "text/plain": [
       "[116]"
      ]
     },
     "execution_count": 4,
     "metadata": {},
     "output_type": "execute_result"
    }
   ],
   "source": [
    "doc_ids = summary.loc[summary[\"summary_id\"] == 109][\"doc_ids\"]\n",
    "ast.literal_eval(doc_ids.item())"
   ]
  },
  {
   "cell_type": "code",
   "execution_count": 5,
   "metadata": {},
   "outputs": [],
   "source": [
    "new_summaries = []\n",
    "for idx in [109, 102, 110, 112, 114, 116, 113]:\n",
    "    doc_ids = ast.literal_eval(summary.loc[summary[\"summary_id\"] == idx][\"doc_ids\"].item())\n",
    "    concated_info = []\n",
    "    for doc_id in doc_ids:\n",
    "        raw_info = raw.loc[raw[\"doc_id\"] == doc_id][\"text\"].item()\n",
    "        concated_info.append(raw_info)\n",
    "    concated_info = \" \".join(concated_info)\n",
    "    summarized_text = summarizer.summarize(concated_info)\n",
    "    new_summaries.append([idx, summarized_text])"
   ]
  },
  {
   "cell_type": "code",
   "execution_count": 9,
   "metadata": {},
   "outputs": [],
   "source": [
    "new_df = pd.DataFrame(new_summaries, columns=[\"summary_id\", \"summary\"])\n",
    "new_df.to_json(\"../Data/summarized_data.json\", orient=\"records\", lines=True, force_ascii=False)"
   ]
  },
  {
   "cell_type": "code",
   "execution_count": null,
   "metadata": {},
   "outputs": [],
   "source": []
  },
  {
   "cell_type": "code",
   "execution_count": null,
   "metadata": {},
   "outputs": [],
   "source": []
  }
 ],
 "metadata": {
  "kernelspec": {
   "display_name": "Python 3",
   "language": "python",
   "name": "python3"
  },
  "language_info": {
   "codemirror_mode": {
    "name": "ipython",
    "version": 3
   },
   "file_extension": ".py",
   "mimetype": "text/x-python",
   "name": "python",
   "nbconvert_exporter": "python",
   "pygments_lexer": "ipython3",
   "version": "3.10.12"
  }
 },
 "nbformat": 4,
 "nbformat_minor": 2
}
